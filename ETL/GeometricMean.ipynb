{
 "cells": [
  {
   "cell_type": "markdown",
   "id": "92f5c629-5a13-457b-94de-4edf30f3bd7d",
   "metadata": {},
   "source": [
    "### Import Dependencies"
   ]
  },
  {
   "cell_type": "code",
   "execution_count": 2,
   "id": "1777c01a-d02e-4d31-a0b6-40c84296bdc5",
   "metadata": {},
   "outputs": [],
   "source": [
    "import pandas as pd\n",
    "import numpy as np\n",
    "from scipy.spatial.distance import cdist, euclidean"
   ]
  },
  {
   "cell_type": "markdown",
   "id": "d24c80f6-4c0d-426a-9cdd-07b8044f9517",
   "metadata": {},
   "source": [
    "### Calculate Geometric Median for precincts in LA"
   ]
  },
  {
   "cell_type": "code",
   "execution_count": 9,
   "id": "ae0bc9fd-0be6-4076-a340-cdaa661647bd",
   "metadata": {},
   "outputs": [],
   "source": [
    "# https://stackoverflow.com/questions/30299267/geometric-median-of-multidimensional-points\n",
    "# https://www.pnas.org/content/pnas/97/4/1423.full.pdf\n",
    "\n",
    "def geometric_median(X, eps=1e-5):\n",
    "    y = np.mean(X, 0)\n",
    "\n",
    "    while True:\n",
    "        D = cdist(X, [y])\n",
    "        nonzeros = (D != 0)[:, 0]\n",
    "\n",
    "        Dinv = 1 / D[nonzeros]\n",
    "        Dinvs = np.sum(Dinv)\n",
    "        W = Dinv / Dinvs\n",
    "        T = np.sum(W * X[nonzeros], 0)\n",
    "\n",
    "        num_zeros = len(X) - np.sum(nonzeros)\n",
    "        if num_zeros == 0:\n",
    "            y1 = T\n",
    "        elif num_zeros == len(X):\n",
    "            return y\n",
    "        else:\n",
    "            R = (T - y) * Dinvs\n",
    "            r = np.linalg.norm(R)\n",
    "            rinv = 0 if r == 0 else num_zeros/r\n",
    "            y1 = max(0, 1-rinv)*T + min(1, rinv)*y\n",
    "\n",
    "        if euclidean(y, y1) < eps:\n",
    "            return y1\n",
    "\n",
    "        y = y1"
   ]
  },
  {
   "cell_type": "code",
   "execution_count": 14,
   "id": "14a59cba-cb7e-4403-9120-43edccc4d593",
   "metadata": {},
   "outputs": [],
   "source": [
    "def jsonFileLoader(file):\n",
    "    crime_df = pd.read_json(file).transpose()\n",
    "    crime_np = crime_df[['LAT','LON']].to_numpy()\n",
    "    return geometric_median(crime_np)"
   ]
  },
  {
   "cell_type": "code",
   "execution_count": 19,
   "id": "c8971aed-0d3d-42fd-a660-e59f96c6d3b5",
   "metadata": {},
   "outputs": [],
   "source": [
    "def csvFileLoader(file):\n",
    "    disp_df = pd.read_csv(file_to_load)[\"LOCATION\"]\n",
    "    return disp_df"
   ]
  },
  {
   "cell_type": "code",
   "execution_count": 23,
   "id": "cd156c2b-534d-4f2c-8252-a1c176c247b6",
   "metadata": {},
   "outputs": [],
   "source": [
    "file_to_load = '../json_files/crime_2013.json'"
   ]
  },
  {
   "cell_type": "code",
   "execution_count": 24,
   "id": "0d1c9cfb-91a2-4c15-9298-49696901ab2f",
   "metadata": {},
   "outputs": [
    {
     "data": {
      "text/plain": [
       "array([34.06209757390803, -118.33198449355702], dtype=object)"
      ]
     },
     "execution_count": 24,
     "metadata": {},
     "output_type": "execute_result"
    }
   ],
   "source": [
    "jsonFileLoader(file_to_load)"
   ]
  },
  {
   "cell_type": "code",
   "execution_count": 25,
   "id": "9f1df910-4055-46f3-ac65-ee17b7ec17c6",
   "metadata": {},
   "outputs": [],
   "source": [
    "file_to_load = \"../json_files/LA_Certificated_Dispensary_Locations.csv\""
   ]
  },
  {
   "cell_type": "code",
   "execution_count": 26,
   "id": "ac4ff2f1-e9e9-48db-b004-9e688d3f9638",
   "metadata": {},
   "outputs": [
    {
     "data": {
      "text/plain": [
       "0      (33.7258, -118.2855)\n",
       "1      (33.7744, -118.2629)\n",
       "2      (33.7805, -118.2523)\n",
       "3       (33.7816, -118.243)\n",
       "4      (33.7871, -118.3081)\n",
       "               ...         \n",
       "415     (34.307, -118.4695)\n",
       "416    (34.3075, -118.4614)\n",
       "417    (34.3099, -118.4274)\n",
       "418    (34.3106, -118.4755)\n",
       "419    (34.3106, -118.4793)\n",
       "Name: LOCATION, Length: 420, dtype: object"
      ]
     },
     "execution_count": 26,
     "metadata": {},
     "output_type": "execute_result"
    }
   ],
   "source": [
    "csvFileLoader(file_to_load)"
   ]
  },
  {
   "cell_type": "code",
   "execution_count": null,
   "id": "4c5bf549-a548-451e-aff4-1feaa55c51e6",
   "metadata": {},
   "outputs": [],
   "source": []
  }
 ],
 "metadata": {
  "kernelspec": {
   "display_name": "PythonData",
   "language": "python",
   "name": "pythondata"
  },
  "language_info": {
   "codemirror_mode": {
    "name": "ipython",
    "version": 3
   },
   "file_extension": ".py",
   "mimetype": "text/x-python",
   "name": "python",
   "nbconvert_exporter": "python",
   "pygments_lexer": "ipython3",
   "version": "3.6.10"
  }
 },
 "nbformat": 4,
 "nbformat_minor": 5
}
