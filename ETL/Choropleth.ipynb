{
 "cells": [
  {
   "cell_type": "code",
   "execution_count": 1,
   "id": "315bd02b",
   "metadata": {},
   "outputs": [
    {
     "ename": "ModuleNotFoundError",
     "evalue": "No module named 'geopandas'",
     "output_type": "error",
     "traceback": [
      "\u001b[1;31m---------------------------------------------------------------------------\u001b[0m",
      "\u001b[1;31mModuleNotFoundError\u001b[0m                       Traceback (most recent call last)",
      "\u001b[1;32m<ipython-input-1-ba4cc9a09a42>\u001b[0m in \u001b[0;36m<module>\u001b[1;34m\u001b[0m\n\u001b[0;32m      1\u001b[0m \u001b[1;32mimport\u001b[0m \u001b[0mpandas\u001b[0m \u001b[1;32mas\u001b[0m \u001b[0mpd\u001b[0m\u001b[1;33m\u001b[0m\u001b[1;33m\u001b[0m\u001b[0m\n\u001b[1;32m----> 2\u001b[1;33m \u001b[1;32mimport\u001b[0m \u001b[0mgeopandas\u001b[0m \u001b[1;32mas\u001b[0m \u001b[0mgpd\u001b[0m\u001b[1;33m\u001b[0m\u001b[1;33m\u001b[0m\u001b[0m\n\u001b[0m\u001b[0;32m      3\u001b[0m \u001b[1;32mimport\u001b[0m \u001b[0mnumpy\u001b[0m \u001b[1;32mas\u001b[0m \u001b[0mnp\u001b[0m\u001b[1;33m\u001b[0m\u001b[1;33m\u001b[0m\u001b[0m\n\u001b[0;32m      4\u001b[0m \u001b[1;32mimport\u001b[0m \u001b[0mgeojson\u001b[0m \u001b[1;32mas\u001b[0m \u001b[0mgj\u001b[0m\u001b[1;33m\u001b[0m\u001b[1;33m\u001b[0m\u001b[0m\n",
      "\u001b[1;31mModuleNotFoundError\u001b[0m: No module named 'geopandas'"
     ]
    }
   ],
   "source": [
    "import pandas as pd\n",
    "import geopandas as gpd\n",
    "import numpy as np\n",
    "import geojson as gj"
   ]
  },
  {
   "cell_type": "code",
   "execution_count": null,
   "id": "812e92af",
   "metadata": {},
   "outputs": [],
   "source": [
    "# Create DF for LAPD_Divisions_geojson\n",
    "lapd_file = \"../static/data/LAPD_Divisions.geojson\"\n",
    "lapd_df = gpd.read_file(lapd_file)"
   ]
  },
  {
   "cell_type": "code",
   "execution_count": null,
   "id": "ad58d723",
   "metadata": {},
   "outputs": [],
   "source": [
    "# lapd_df.head()"
   ]
  },
  {
   "cell_type": "code",
   "execution_count": 4,
   "id": "bcb1e1d2",
   "metadata": {},
   "outputs": [],
   "source": [
    "# Load json to dataframe\n",
    "year = [2013,2014,2015,2016,2017,2018,2019]\n",
    "\n",
    "yearArea_df = pd.DataFrame(columns = ['Year', 'LAPD_Area', 'Crime_Counts'])\n",
    "\n",
    "# Loop through each year and append to a single dataframe\n",
    "\n",
    "for y in year:\n",
    "    crime_year = f\"crime_{y}\"\n",
    "    file_to_load = f'../static/data/{crime_year}.json'\n",
    "    \n",
    "    crime_df = pd.read_json(file_to_load).T\n",
    "\n",
    "    # Aggregate by Year and Area\n",
    "    grouped_df = crime_df.groupby(['Year','LAPD_Area']).agg({'Crime_Type':['count']}) \n",
    "    grouped_df.columns = ['Crime_Counts'] \n",
    "    grouped_df.reset_index(level=['Year','LAPD_Area'],inplace=True)\n",
    "    yearArea_df = yearArea_df.append(grouped_df, ignore_index = True)\n",
    "    "
   ]
  },
  {
   "cell_type": "code",
   "execution_count": 5,
   "id": "0a564a8c",
   "metadata": {},
   "outputs": [],
   "source": [
    "# yearArea_df.head()"
   ]
  },
  {
   "cell_type": "code",
   "execution_count": 6,
   "id": "e27083c4",
   "metadata": {},
   "outputs": [],
   "source": [
    "# Join grouped_df (crime) with LAPD_divsions - join by area\n",
    "final_df = yearArea_df.merge(lapd_df, left_on='LAPD_Area', right_on='PREC')\n",
    "# final_df.head(100)"
   ]
  },
  {
   "cell_type": "code",
   "execution_count": 7,
   "id": "ca32174f",
   "metadata": {},
   "outputs": [],
   "source": [
    "# create function to output a geojson format\n",
    "def data2geojson(df, filename):\n",
    "    features = []\n",
    "    insert_features = lambda X: features.append(\n",
    "            gj.Feature(geometry=X[\"geometry\"],\n",
    "                       #gj.Point((X[\"LON\"],X[\"LAT\"])),  ## old code and no longer needed\n",
    "                            properties=dict(crime_counts=X[\"Crime_Counts\"]\n",
    "                                           ,year=X[\"Year\"])))\n",
    "    df.apply(insert_features, axis=1)\n",
    "    with open(filename, 'w', encoding='utf8') as fp:\n",
    "        gj.dump(gj.FeatureCollection(features), fp, sort_keys=True, ensure_ascii=False)"
   ]
  },
  {
   "cell_type": "code",
   "execution_count": 8,
   "id": "3cb1a1f6",
   "metadata": {},
   "outputs": [],
   "source": [
    "# Create final crime GeoJson\n",
    "outputFilePath = '../static/data/'\n",
    "outputFileName = 'crime'\n",
    "dispFileName = f'{outputFilePath}{outputFileName}.geojson'\n",
    "\n",
    "data2geojson(final_df, dispFileName)"
   ]
  }
 ],
 "metadata": {
  "kernelspec": {
   "display_name": "Python 3",
   "language": "python",
   "name": "python3"
  },
  "language_info": {
   "codemirror_mode": {
    "name": "ipython",
    "version": 3
   },
   "file_extension": ".py",
   "mimetype": "text/x-python",
   "name": "python",
   "nbconvert_exporter": "python",
   "pygments_lexer": "ipython3",
   "version": "3.8.8"
  }
 },
 "nbformat": 4,
 "nbformat_minor": 5
}
