{
 "cells": [
  {
   "cell_type": "code",
   "execution_count": 1,
   "metadata": {},
   "outputs": [],
   "source": [
    "import pandas as pd\n",
    "import numpy as np\n",
    "import geojson as gj"
   ]
  },
  {
   "cell_type": "code",
   "execution_count": 2,
   "metadata": {},
   "outputs": [],
   "source": [
    "file_to_load = \"../json_files/LA_Certificated_Dispensary_Locations.csv\"\n",
    "disp_df = pd.read_csv(file_to_load)"
   ]
  },
  {
   "cell_type": "code",
   "execution_count": 3,
   "metadata": {},
   "outputs": [],
   "source": [
    "# dispURL = 'https://data.lacity.org/resource/bunu-zsyc.geojson'\n",
    "# dispDF = pd.read_json(dispURL)\n",
    "\n",
    "# dispDF.head()"
   ]
  },
  {
   "cell_type": "code",
   "execution_count": 4,
   "metadata": {},
   "outputs": [],
   "source": [
    "disp_df.reset_index(drop = True, inplace = True)"
   ]
  },
  {
   "cell_type": "code",
   "execution_count": 5,
   "metadata": {},
   "outputs": [],
   "source": [
    "disp_df[[\"lat\",\"long\"]] = disp_df.LOCATION.str.split(\",\",expand=True)"
   ]
  },
  {
   "cell_type": "code",
   "execution_count": 6,
   "metadata": {},
   "outputs": [],
   "source": [
    "# disp_df.head()"
   ]
  },
  {
   "cell_type": "code",
   "execution_count": 7,
   "metadata": {},
   "outputs": [],
   "source": [
    "# ********************DONT RUN MORE THAN ONCE OR YOU WILL NEED TO RESTART KERNAL\n",
    "disp_df[\"lat\"] = disp_df.lat.str.slice(start=1)"
   ]
  },
  {
   "cell_type": "code",
   "execution_count": 8,
   "metadata": {},
   "outputs": [],
   "source": [
    "# ********************DONT RUN MORE THAN ONCE OR YOU WILL NEED TO RESTART KERNAL\n",
    "disp_df[\"long\"] = disp_df.long.str.slice(stop=-1)"
   ]
  },
  {
   "cell_type": "code",
   "execution_count": 9,
   "metadata": {},
   "outputs": [],
   "source": [
    "disp_df[\"lat\"] = pd.to_numeric(disp_df[\"lat\"])\n",
    "disp_df[\"long\"] = pd.to_numeric(disp_df[\"long\"])\n",
    "# disp_df.head()"
   ]
  },
  {
   "cell_type": "code",
   "execution_count": 10,
   "metadata": {},
   "outputs": [
    {
     "data": {
      "text/plain": [
       "LOCATION ACCOUNT #       object\n",
       "BUSINESS NAME            object\n",
       "DBA NAME                 object\n",
       "CONFIRMED                object\n",
       "STREET ADDRESS           object\n",
       "CITY                     object\n",
       "ZIP CODE                 object\n",
       "LOCATION DESCRIPTION     object\n",
       "MAILING ADDRESS          object\n",
       "MAILING CITY             object\n",
       "MAILING ZIP CODE         object\n",
       "COUNCIL DISTRICT          int64\n",
       "LOCATION START DATE      object\n",
       "LOCATION                 object\n",
       "lat                     float64\n",
       "long                    float64\n",
       "dtype: object"
      ]
     },
     "execution_count": 10,
     "metadata": {},
     "output_type": "execute_result"
    }
   ],
   "source": [
    "# disp_df.to_json(r'../JSON Files/DISP.JSON', orient = \"index\")\n",
    "disp_df.dtypes"
   ]
  },
  {
   "cell_type": "code",
   "execution_count": 13,
   "metadata": {},
   "outputs": [],
   "source": [
    "def data2geojson(df, filename):\n",
    "    features = []\n",
    "    insert_features = lambda X: features.append(\n",
    "            gj.Feature(geometry=gj.Point((X[\"long\"],\n",
    "                                                    X[\"lat\"]\n",
    "#                                           ,X[\"elev\"]\n",
    "                                         )),\n",
    "                            properties=dict(zip_code=X[\"ZIP CODE\"],\n",
    "                                            business_name = X[\"BUSINESS NAME\"],\n",
    "                                            street_address = X[\"STREET ADDRESS\"],\n",
    "                                           location_start_date = X[\"LOCATION START DATE\"])))\n",
    "    df.apply(insert_features, axis=1)\n",
    "    with open(filename, 'w', encoding='utf8') as fp:\n",
    "        gj.dump(gj.FeatureCollection(features), fp, sort_keys=True, ensure_ascii=False)"
   ]
  },
  {
   "cell_type": "code",
   "execution_count": 14,
   "metadata": {},
   "outputs": [],
   "source": [
    "outputFilePath = '../static/data/'\n",
    "dispFileName = f'{outputFilePath}disp.geojson'\n",
    "data2geojson(disp_df, dispFileName)"
   ]
  },
  {
   "cell_type": "code",
   "execution_count": null,
   "metadata": {},
   "outputs": [],
   "source": []
  }
 ],
 "metadata": {
  "kernelspec": {
   "display_name": "Python 3",
   "language": "python",
   "name": "python3"
  },
  "language_info": {
   "codemirror_mode": {
    "name": "ipython",
    "version": 3
   },
   "file_extension": ".py",
   "mimetype": "text/x-python",
   "name": "python",
   "nbconvert_exporter": "python",
   "pygments_lexer": "ipython3",
   "version": "3.8.5"
  }
 },
 "nbformat": 4,
 "nbformat_minor": 5
}
