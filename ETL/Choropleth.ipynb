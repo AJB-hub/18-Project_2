{
 "cells": [
  {
   "cell_type": "code",
   "execution_count": 1,
   "metadata": {},
   "outputs": [],
   "source": [
    "import pandas as pd\n",
    "import numpy as np\n",
    "import geojson as gj"
   ]
  },
  {
   "cell_type": "code",
   "execution_count": 2,
   "metadata": {},
   "outputs": [],
   "source": [
    "file_to_load = \"../static/data/crime_2013.json\"\n",
    "crime_df = pd.read_json(file_to_load).T"
   ]
  },
  {
   "cell_type": "code",
   "execution_count": 4,
   "metadata": {},
   "outputs": [],
   "source": [
    "crime_df.reset_index(drop = True, inplace = True)"
   ]
  },
  {
   "cell_type": "code",
   "execution_count": 5,
   "metadata": {},
   "outputs": [
    {
     "data": {
      "text/html": [
       "<div>\n",
       "<style scoped>\n",
       "    .dataframe tbody tr th:only-of-type {\n",
       "        vertical-align: middle;\n",
       "    }\n",
       "\n",
       "    .dataframe tbody tr th {\n",
       "        vertical-align: top;\n",
       "    }\n",
       "\n",
       "    .dataframe thead th {\n",
       "        text-align: right;\n",
       "    }\n",
       "</style>\n",
       "<table border=\"1\" class=\"dataframe\">\n",
       "  <thead>\n",
       "    <tr style=\"text-align: right;\">\n",
       "      <th></th>\n",
       "      <th>Year</th>\n",
       "      <th>Date_Occur</th>\n",
       "      <th>LAT</th>\n",
       "      <th>LON</th>\n",
       "      <th>Crime_Type</th>\n",
       "      <th>Premise</th>\n",
       "      <th>Weapon</th>\n",
       "    </tr>\n",
       "  </thead>\n",
       "  <tbody>\n",
       "    <tr>\n",
       "      <th>0</th>\n",
       "      <td>2013</td>\n",
       "      <td>09/27/2013</td>\n",
       "      <td>34.062</td>\n",
       "      <td>-118.448</td>\n",
       "      <td>Burglary</td>\n",
       "      <td>Retail Location</td>\n",
       "      <td>None</td>\n",
       "    </tr>\n",
       "    <tr>\n",
       "      <th>1</th>\n",
       "      <td>2013</td>\n",
       "      <td>12/31/2013</td>\n",
       "      <td>34.0363</td>\n",
       "      <td>-118.267</td>\n",
       "      <td>Theft</td>\n",
       "      <td>Other</td>\n",
       "      <td>None</td>\n",
       "    </tr>\n",
       "    <tr>\n",
       "      <th>2</th>\n",
       "      <td>2013</td>\n",
       "      <td>10/01/2013</td>\n",
       "      <td>33.9557</td>\n",
       "      <td>-118.444</td>\n",
       "      <td>Burglary</td>\n",
       "      <td>House/Apartment/Yard</td>\n",
       "      <td>Personal Weapons</td>\n",
       "    </tr>\n",
       "    <tr>\n",
       "      <th>3</th>\n",
       "      <td>2013</td>\n",
       "      <td>08/26/2013</td>\n",
       "      <td>34.0417</td>\n",
       "      <td>-118.275</td>\n",
       "      <td>Other</td>\n",
       "      <td>House/Apartment/Yard</td>\n",
       "      <td>Unk or Other</td>\n",
       "    </tr>\n",
       "    <tr>\n",
       "      <th>4</th>\n",
       "      <td>2013</td>\n",
       "      <td>08/22/2013</td>\n",
       "      <td>34.2282</td>\n",
       "      <td>-118.454</td>\n",
       "      <td>Robbery</td>\n",
       "      <td>Street/Alley/Sidewalk</td>\n",
       "      <td>Personal Weapons</td>\n",
       "    </tr>\n",
       "  </tbody>\n",
       "</table>\n",
       "</div>"
      ],
      "text/plain": [
       "   Year  Date_Occur      LAT      LON Crime_Type                Premise  \\\n",
       "0  2013  09/27/2013   34.062 -118.448   Burglary        Retail Location   \n",
       "1  2013  12/31/2013  34.0363 -118.267      Theft                  Other   \n",
       "2  2013  10/01/2013  33.9557 -118.444   Burglary   House/Apartment/Yard   \n",
       "3  2013  08/26/2013  34.0417 -118.275      Other   House/Apartment/Yard   \n",
       "4  2013  08/22/2013  34.2282 -118.454    Robbery  Street/Alley/Sidewalk   \n",
       "\n",
       "             Weapon  \n",
       "0              None  \n",
       "1              None  \n",
       "2  Personal Weapons  \n",
       "3      Unk or Other  \n",
       "4  Personal Weapons  "
      ]
     },
     "execution_count": 5,
     "metadata": {},
     "output_type": "execute_result"
    }
   ],
   "source": [
    "crime_df.head()"
   ]
  },
  {
   "cell_type": "code",
   "execution_count": 10,
   "metadata": {},
   "outputs": [
    {
     "data": {
      "text/plain": [
       "Year           object\n",
       "Date_Occur     object\n",
       "LAT           float64\n",
       "LON           float64\n",
       "Crime_Type     object\n",
       "Premise        object\n",
       "Weapon         object\n",
       "dtype: object"
      ]
     },
     "execution_count": 10,
     "metadata": {},
     "output_type": "execute_result"
    }
   ],
   "source": [
    "# crime_df.to_json(r'../JSON Files/DISP.JSON', orient = \"index\")\n",
    "crime_df[\"LAT\"] = pd.to_numeric(crime_df[\"LAT\"])\n",
    "crime_df[\"LON\"] = pd.to_numeric(crime_df[\"LON\"])\n",
    "crime_df.dtypes"
   ]
  },
  {
   "cell_type": "code",
   "execution_count": 11,
   "metadata": {},
   "outputs": [],
   "source": [
    "def data2geojson(df, filename):\n",
    "    features = []\n",
    "    insert_features = lambda X: features.append(\n",
    "            gj.Feature(geometry=gj.Point((X[\"LON\"],\n",
    "                                         X[\"LAT\"]\n",
    "                                         ))))\n",
    "    df.apply(insert_features, axis=1)\n",
    "    with open(filename, 'w', encoding='utf8') as fp:\n",
    "        gj.dump(gj.FeatureCollection(features), fp, sort_keys=True, ensure_ascii=False)"
   ]
  },
  {
   "cell_type": "code",
   "execution_count": 12,
   "metadata": {},
   "outputs": [],
   "source": [
    "outputFilePath = '../static/data/'\n",
    "dispFileName = f'{outputFilePath}crime2013.geojson'\n",
    "data2geojson(crime_df, dispFileName)"
   ]
  },
  {
   "cell_type": "code",
   "execution_count": null,
   "metadata": {},
   "outputs": [],
   "source": []
  }
 ],
 "metadata": {
  "kernelspec": {
   "display_name": "Python 3",
   "language": "python",
   "name": "python3"
  },
  "language_info": {
   "codemirror_mode": {
    "name": "ipython",
    "version": 3
   },
   "file_extension": ".py",
   "mimetype": "text/x-python",
   "name": "python",
   "nbconvert_exporter": "python",
   "pygments_lexer": "ipython3",
   "version": "3.8.5"
  }
 },
 "nbformat": 4,
 "nbformat_minor": 5
}
