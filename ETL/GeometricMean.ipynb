{
 "cells": [
  {
   "cell_type": "markdown",
   "id": "92f5c629-5a13-457b-94de-4edf30f3bd7d",
   "metadata": {},
   "source": [
    "### Import Dependencies"
   ]
  },
  {
   "cell_type": "code",
   "execution_count": 14,
   "id": "1777c01a-d02e-4d31-a0b6-40c84296bdc5",
   "metadata": {},
   "outputs": [],
   "source": [
    "import pandas as pd\n",
    "\n",
    "import numpy as np\n",
    "from scipy.spatial.distance import cdist, euclidean"
   ]
  },
  {
   "cell_type": "markdown",
   "id": "080d1862-841a-4baf-a95d-b7adca5a83d1",
   "metadata": {},
   "source": [
    "### Import Data"
   ]
  },
  {
   "cell_type": "code",
   "execution_count": 16,
   "id": "f74ccc7b-259f-4708-8833-67ff372d4734",
   "metadata": {},
   "outputs": [],
   "source": [
    "file_to_load = \"../json_files/LA_Certificated_Dispensary_Locations.csv\"\n",
    "disp_df = pd.read_csv(file_to_load)"
   ]
  },
  {
   "cell_type": "code",
   "execution_count": 20,
   "id": "44167c80-1d33-434d-bc92-69512cd9c29f",
   "metadata": {},
   "outputs": [
    {
     "data": {
      "text/plain": [
       "0      (33.7258, -118.2855)\n",
       "1      (33.7744, -118.2629)\n",
       "2      (33.7805, -118.2523)\n",
       "3       (33.7816, -118.243)\n",
       "4      (33.7871, -118.3081)\n",
       "               ...         \n",
       "415     (34.307, -118.4695)\n",
       "416    (34.3075, -118.4614)\n",
       "417    (34.3099, -118.4274)\n",
       "418    (34.3106, -118.4755)\n",
       "419    (34.3106, -118.4793)\n",
       "Name: LOCATION, Length: 420, dtype: object"
      ]
     },
     "execution_count": 20,
     "metadata": {},
     "output_type": "execute_result"
    }
   ],
   "source": [
    "disp_df[\"LOCATION\"]"
   ]
  },
  {
   "cell_type": "code",
   "execution_count": 10,
   "id": "b3da1d61-57f9-4f34-b345-fd295163afec",
   "metadata": {},
   "outputs": [],
   "source": [
    "#todo\n",
    "# Load crime data for each precinct into seperate numpy arrays"
   ]
  },
  {
   "cell_type": "code",
   "execution_count": 21,
   "id": "cd156c2b-534d-4f2c-8252-a1c176c247b6",
   "metadata": {},
   "outputs": [],
   "source": [
    "file_to_load = '../json_files/crime_2013.json'\n",
    "crime_df = pd.read_json(file_to_load)"
   ]
  },
  {
   "cell_type": "code",
   "execution_count": 31,
   "id": "9296c28b-a3ff-4314-bb96-b495ac87d4dd",
   "metadata": {},
   "outputs": [],
   "source": [
    "crime_df = crime_df.transpose()"
   ]
  },
  {
   "cell_type": "code",
   "execution_count": 41,
   "id": "7856bd05-1b35-40bf-a5cc-946e4f551602",
   "metadata": {},
   "outputs": [
    {
     "data": {
      "text/html": [
       "<div>\n",
       "<style scoped>\n",
       "    .dataframe tbody tr th:only-of-type {\n",
       "        vertical-align: middle;\n",
       "    }\n",
       "\n",
       "    .dataframe tbody tr th {\n",
       "        vertical-align: top;\n",
       "    }\n",
       "\n",
       "    .dataframe thead th {\n",
       "        text-align: right;\n",
       "    }\n",
       "</style>\n",
       "<table border=\"1\" class=\"dataframe\">\n",
       "  <thead>\n",
       "    <tr style=\"text-align: right;\">\n",
       "      <th></th>\n",
       "      <th>Year</th>\n",
       "      <th>Date_Occur</th>\n",
       "      <th>LAPD_Area</th>\n",
       "      <th>LAPD_Area_Name</th>\n",
       "      <th>LAT</th>\n",
       "      <th>LON</th>\n",
       "      <th>Crime_Type</th>\n",
       "      <th>Premise</th>\n",
       "      <th>Weapon</th>\n",
       "    </tr>\n",
       "  </thead>\n",
       "  <tbody>\n",
       "    <tr>\n",
       "      <th>0</th>\n",
       "      <td>2013</td>\n",
       "      <td>09/27/2013</td>\n",
       "      <td>8</td>\n",
       "      <td>West LA</td>\n",
       "      <td>34.062</td>\n",
       "      <td>-118.448</td>\n",
       "      <td>Burglary</td>\n",
       "      <td>Retail Location</td>\n",
       "      <td>None</td>\n",
       "    </tr>\n",
       "    <tr>\n",
       "      <th>1</th>\n",
       "      <td>2013</td>\n",
       "      <td>12/31/2013</td>\n",
       "      <td>1</td>\n",
       "      <td>Central</td>\n",
       "      <td>34.0363</td>\n",
       "      <td>-118.267</td>\n",
       "      <td>Theft</td>\n",
       "      <td>Other</td>\n",
       "      <td>None</td>\n",
       "    </tr>\n",
       "    <tr>\n",
       "      <th>2</th>\n",
       "      <td>2013</td>\n",
       "      <td>10/01/2013</td>\n",
       "      <td>14</td>\n",
       "      <td>Pacific</td>\n",
       "      <td>33.9557</td>\n",
       "      <td>-118.444</td>\n",
       "      <td>Burglary</td>\n",
       "      <td>House/Apartment/Yard</td>\n",
       "      <td>Personal Weapons</td>\n",
       "    </tr>\n",
       "    <tr>\n",
       "      <th>3</th>\n",
       "      <td>2013</td>\n",
       "      <td>08/22/2013</td>\n",
       "      <td>19</td>\n",
       "      <td>Mission</td>\n",
       "      <td>34.2282</td>\n",
       "      <td>-118.454</td>\n",
       "      <td>Robbery</td>\n",
       "      <td>Street/Alley/Sidewalk</td>\n",
       "      <td>Personal Weapons</td>\n",
       "    </tr>\n",
       "    <tr>\n",
       "      <th>4</th>\n",
       "      <td>2013</td>\n",
       "      <td>05/17/2013</td>\n",
       "      <td>21</td>\n",
       "      <td>Topanga</td>\n",
       "      <td>34.1865</td>\n",
       "      <td>-118.615</td>\n",
       "      <td>Assault</td>\n",
       "      <td>House/Apartment/Yard</td>\n",
       "      <td>Personal Weapons</td>\n",
       "    </tr>\n",
       "    <tr>\n",
       "      <th>...</th>\n",
       "      <td>...</td>\n",
       "      <td>...</td>\n",
       "      <td>...</td>\n",
       "      <td>...</td>\n",
       "      <td>...</td>\n",
       "      <td>...</td>\n",
       "      <td>...</td>\n",
       "      <td>...</td>\n",
       "      <td>...</td>\n",
       "    </tr>\n",
       "    <tr>\n",
       "      <th>126758</th>\n",
       "      <td>2013</td>\n",
       "      <td>10/18/2013</td>\n",
       "      <td>2</td>\n",
       "      <td>Rampart</td>\n",
       "      <td>34.055</td>\n",
       "      <td>-118.273</td>\n",
       "      <td>Assault</td>\n",
       "      <td>Parking Lot</td>\n",
       "      <td>Unk or Other</td>\n",
       "    </tr>\n",
       "    <tr>\n",
       "      <th>126759</th>\n",
       "      <td>2013</td>\n",
       "      <td>05/17/2013</td>\n",
       "      <td>10</td>\n",
       "      <td>West Valley</td>\n",
       "      <td>34.2022</td>\n",
       "      <td>-118.481</td>\n",
       "      <td>Burglary</td>\n",
       "      <td>House/Apartment/Yard</td>\n",
       "      <td>None</td>\n",
       "    </tr>\n",
       "    <tr>\n",
       "      <th>126760</th>\n",
       "      <td>2013</td>\n",
       "      <td>10/28/2013</td>\n",
       "      <td>12</td>\n",
       "      <td>77th Street</td>\n",
       "      <td>33.9856</td>\n",
       "      <td>-118.291</td>\n",
       "      <td>Assault</td>\n",
       "      <td>House/Apartment/Yard</td>\n",
       "      <td>Personal Weapons</td>\n",
       "    </tr>\n",
       "    <tr>\n",
       "      <th>126761</th>\n",
       "      <td>2013</td>\n",
       "      <td>07/15/2013</td>\n",
       "      <td>21</td>\n",
       "      <td>Topanga</td>\n",
       "      <td>34.1805</td>\n",
       "      <td>-118.597</td>\n",
       "      <td>Theft</td>\n",
       "      <td>Retail Location</td>\n",
       "      <td>None</td>\n",
       "    </tr>\n",
       "    <tr>\n",
       "      <th>126762</th>\n",
       "      <td>2013</td>\n",
       "      <td>08/07/2013</td>\n",
       "      <td>20</td>\n",
       "      <td>Olympic</td>\n",
       "      <td>34.0712</td>\n",
       "      <td>-118.307</td>\n",
       "      <td>Assault</td>\n",
       "      <td>House/Apartment/Yard</td>\n",
       "      <td>Personal Weapons</td>\n",
       "    </tr>\n",
       "  </tbody>\n",
       "</table>\n",
       "<p>126752 rows × 9 columns</p>\n",
       "</div>"
      ],
      "text/plain": [
       "        Year  Date_Occur LAPD_Area LAPD_Area_Name      LAT      LON  \\\n",
       "0       2013  09/27/2013         8        West LA   34.062 -118.448   \n",
       "1       2013  12/31/2013         1        Central  34.0363 -118.267   \n",
       "2       2013  10/01/2013        14        Pacific  33.9557 -118.444   \n",
       "3       2013  08/22/2013        19        Mission  34.2282 -118.454   \n",
       "4       2013  05/17/2013        21        Topanga  34.1865 -118.615   \n",
       "...      ...         ...       ...            ...      ...      ...   \n",
       "126758  2013  10/18/2013         2        Rampart   34.055 -118.273   \n",
       "126759  2013  05/17/2013        10    West Valley  34.2022 -118.481   \n",
       "126760  2013  10/28/2013        12    77th Street  33.9856 -118.291   \n",
       "126761  2013  07/15/2013        21        Topanga  34.1805 -118.597   \n",
       "126762  2013  08/07/2013        20        Olympic  34.0712 -118.307   \n",
       "\n",
       "       Crime_Type                Premise            Weapon  \n",
       "0        Burglary        Retail Location              None  \n",
       "1           Theft                  Other              None  \n",
       "2        Burglary   House/Apartment/Yard  Personal Weapons  \n",
       "3         Robbery  Street/Alley/Sidewalk  Personal Weapons  \n",
       "4         Assault   House/Apartment/Yard  Personal Weapons  \n",
       "...           ...                    ...               ...  \n",
       "126758    Assault            Parking Lot      Unk or Other  \n",
       "126759   Burglary   House/Apartment/Yard              None  \n",
       "126760    Assault   House/Apartment/Yard  Personal Weapons  \n",
       "126761      Theft        Retail Location              None  \n",
       "126762    Assault   House/Apartment/Yard  Personal Weapons  \n",
       "\n",
       "[126752 rows x 9 columns]"
      ]
     },
     "execution_count": 41,
     "metadata": {},
     "output_type": "execute_result"
    }
   ],
   "source": [
    "crime_df"
   ]
  },
  {
   "cell_type": "markdown",
   "id": "d24c80f6-4c0d-426a-9cdd-07b8044f9517",
   "metadata": {},
   "source": [
    "### Calculate Geometric Median for precincts in LA"
   ]
  },
  {
   "cell_type": "code",
   "execution_count": 2,
   "id": "ae0bc9fd-0be6-4076-a340-cdaa661647bd",
   "metadata": {},
   "outputs": [],
   "source": [
    "# https://stackoverflow.com/questions/30299267/geometric-median-of-multidimensional-points\n",
    "# https://www.pnas.org/content/pnas/97/4/1423.full.pdf\n",
    "\n",
    "def geometric_median(X, eps=1e-5):\n",
    "    y = np.mean(X, 0)\n",
    "\n",
    "    while True:\n",
    "        D = cdist(X, [y])\n",
    "        nonzeros = (D != 0)[:, 0]\n",
    "\n",
    "        Dinv = 1 / D[nonzeros]\n",
    "        Dinvs = np.sum(Dinv)\n",
    "        W = Dinv / Dinvs\n",
    "        T = np.sum(W * X[nonzeros], 0)\n",
    "\n",
    "        num_zeros = len(X) - np.sum(nonzeros)\n",
    "        if num_zeros == 0:\n",
    "            y1 = T\n",
    "        elif num_zeros == len(X):\n",
    "            return y\n",
    "        else:\n",
    "            R = (T - y) * Dinvs\n",
    "            r = np.linalg.norm(R)\n",
    "            rinv = 0 if r == 0 else num_zeros/r\n",
    "            y1 = max(0, 1-rinv)*T + min(1, rinv)*y\n",
    "\n",
    "        if euclidean(y, y1) < eps:\n",
    "            return y1\n",
    "\n",
    "        y = y1"
   ]
  },
  {
   "cell_type": "code",
   "execution_count": 12,
   "id": "e3d2b643-5ec3-4446-9009-436b42187e91",
   "metadata": {},
   "outputs": [
    {
     "data": {
      "text/plain": [
       "array([0.        , 2.88673462])"
      ]
     },
     "execution_count": 12,
     "metadata": {},
     "output_type": "execute_result"
    }
   ],
   "source": [
    "# Test Case\n",
    "a = np.array([[5,0],[-5,0],[0,5]])\n",
    "geometric_median(a)"
   ]
  },
  {
   "cell_type": "code",
   "execution_count": null,
   "id": "572725c9-dbde-493b-8169-b967b1b39e15",
   "metadata": {},
   "outputs": [],
   "source": []
  },
  {
   "cell_type": "code",
   "execution_count": null,
   "id": "c8971aed-0d3d-42fd-a660-e59f96c6d3b5",
   "metadata": {},
   "outputs": [],
   "source": []
  },
  {
   "cell_type": "code",
   "execution_count": null,
   "id": "9f1df910-4055-46f3-ac65-ee17b7ec17c6",
   "metadata": {},
   "outputs": [],
   "source": []
  }
 ],
 "metadata": {
  "kernelspec": {
   "display_name": "PythonData",
   "language": "python",
   "name": "pythondata"
  },
  "language_info": {
   "codemirror_mode": {
    "name": "ipython",
    "version": 3
   },
   "file_extension": ".py",
   "mimetype": "text/x-python",
   "name": "python",
   "nbconvert_exporter": "python",
   "pygments_lexer": "ipython3",
   "version": "3.6.10"
  }
 },
 "nbformat": 4,
 "nbformat_minor": 5
}
