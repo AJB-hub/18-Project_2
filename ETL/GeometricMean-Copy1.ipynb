{
 "cells": [
  {
   "cell_type": "markdown",
   "metadata": {},
   "source": [
    "### Import Dependencies"
   ]
  },
  {
   "cell_type": "code",
   "execution_count": 39,
   "metadata": {},
   "outputs": [],
   "source": [
    "import pandas as pd\n",
    "import numpy as np\n",
    "from scipy.spatial.distance import cdist, euclidean\n",
    "import os\n",
    "import geojson"
   ]
  },
  {
   "cell_type": "markdown",
   "metadata": {},
   "source": [
    "### Calculate Geometric Median for precincts in LA"
   ]
  },
  {
   "cell_type": "code",
   "execution_count": 3,
   "metadata": {},
   "outputs": [],
   "source": [
    "# https://stackoverflow.com/questions/30299267/geometric-median-of-multidimensional-points\n",
    "# https://www.pnas.org/content/pnas/97/4/1423.full.pdf\n",
    "\n",
    "def geometric_median(X, eps=1e-5):\n",
    "    y = np.mean(X, 0)\n",
    "\n",
    "    while True:\n",
    "        D = cdist(X, [y])\n",
    "        nonzeros = (D != 0)[:, 0]\n",
    "\n",
    "        Dinv = 1 / D[nonzeros]\n",
    "        Dinvs = np.sum(Dinv)\n",
    "        W = Dinv / Dinvs\n",
    "        T = np.sum(W * X[nonzeros], 0)\n",
    "\n",
    "        num_zeros = len(X) - np.sum(nonzeros)\n",
    "        if num_zeros == 0:\n",
    "            y1 = T\n",
    "        elif num_zeros == len(X):\n",
    "            return y\n",
    "        else:\n",
    "            R = (T - y) * Dinvs\n",
    "            r = np.linalg.norm(R)\n",
    "            rinv = 0 if r == 0 else num_zeros/r\n",
    "            y1 = max(0, 1-rinv)*T + min(1, rinv)*y\n",
    "\n",
    "        if euclidean(y, y1) < eps:\n",
    "            return y1\n",
    "\n",
    "        y = y1"
   ]
  },
  {
   "cell_type": "code",
   "execution_count": 24,
   "metadata": {},
   "outputs": [],
   "source": [
    "def jsonFileLoader(file, year):\n",
    "    #read json to df and transpose\n",
    "    crime_df = pd.read_json(file).transpose()\n",
    "\n",
    "    #group by precinct \n",
    "    gb = crime_df.groupby('LAPD_Area')    \n",
    "    split_crime_df = [gb.get_group(x) for x in gb.groups]\n",
    "\n",
    "    list1 = []\n",
    "    \n",
    "    for i, e in enumerate(split_crime_df):\n",
    "        prec_crime_np = split_crime_df[i][['LAT','LON']].to_numpy()\n",
    "        \n",
    "        y = list(geometric_median(prec_crime_np))\n",
    "        x = str(split_crime_df[i][\"LAPD_Area_Name\"].values[0])\n",
    "        \n",
    "        geoJsonE = {}\n",
    "        geoJsonE[\"type\"] = \"Feature\"\n",
    "        geoJsonE[\"geometry\"] = {\"type\":\"Point\",\"coordinates\":[y[1], y[0]]}\n",
    "        geoJsonE[\"properties\"] = {\"name\":x, \"year\":year}\n",
    "        \n",
    "        list1.append(geoJsonE)\n",
    "    return list1\n"
   ]
  },
  {
   "cell_type": "code",
   "execution_count": 43,
   "metadata": {},
   "outputs": [],
   "source": [
    "year = [2013,2014]#,2015,2016,2017,2018,2019]\n",
    "filePath = '../static/data/'\n",
    "fileName = f'crime_median'\n",
    "outputFile = f\"{filePath}{fileName}.geojson\"\n",
    "\n",
    "geoJson = {}\n",
    "listGeo = []\n",
    "geoJson[\"type\"] = \"FeatureCollection\"  \n",
    "\n",
    "for y in year:    \n",
    "    file_to_load = f'{filePath}source/crime_{y}.json'\n",
    "\n",
    "    listGeo.append(jsonFileLoader(file_to_load, y))\n",
    "\n",
    "f = open(outputFile, \"w\")\n",
    "geoJson['features'] = listGeo\n",
    "f.write(str(geojson.dumps(geoJson)))\n",
    "f.close()"
   ]
  },
  {
   "cell_type": "code",
   "execution_count": 42,
   "metadata": {},
   "outputs": [
    {
     "name": "stdout",
     "output_type": "stream",
     "text": [
      "{\"type\": \"FeatureCollection\", \"features\": [[{\"type\": \"Feature\", \"geometry\": {\"type\": \"Point\", \"coordinates\": [-118.25044004338203, 34.046268430317454]}, \"properties\": {\"name\": \"Central\", \"year\": 2013}}, {\"type\": \"Feature\", \"geometry\": {\"type\": \"Point\", \"coordinates\": [-118.27332504902962, 34.06107176670108]}, \"properties\": {\"name\": \"Rampart\", \"year\": 2013}}, {\"type\": \"Feature\", \"geometry\": {\"type\": \"Point\", \"coordinates\": [-118.31555108026427, 34.01838682642745]}, \"properties\": {\"name\": \"Southwest\", \"year\": 2013}}, {\"type\": \"Feature\", \"geometry\": {\"type\": \"Point\", \"coordinates\": [-118.20472845179633, 34.05261478030283]}, \"properties\": {\"name\": \"Hollenbeck\", \"year\": 2013}}, {\"type\": \"Feature\", \"geometry\": {\"type\": \"Point\", \"coordinates\": [-118.28659168098801, 33.764045318683266]}, \"properties\": {\"name\": \"Harbor\", \"year\": 2013}}, {\"type\": \"Feature\", \"geometry\": {\"type\": \"Point\", \"coordinates\": [-118.32996665828792, 34.09982065823611]}, \"properties\": {\"name\": \"Hollywood\", \"year\": 2013}}, {\"type\": \"Feature\", \"geometry\": {\"type\": \"Point\", \"coordinates\": [-118.35219919914205, 34.06378822207899]}, \"properties\": {\"name\": \"Wilshire\", \"year\": 2013}}, {\"type\": \"Feature\", \"geometry\": {\"type\": \"Point\", \"coordinates\": [-118.43769340517912, 34.05012477342844]}, \"properties\": {\"name\": \"West LA\", \"year\": 2013}}, {\"type\": \"Feature\", \"geometry\": {\"type\": \"Point\", \"coordinates\": [-118.44623076218687, 34.179259353291485]}, \"properties\": {\"name\": \"Van Nuys\", \"year\": 2013}}, {\"type\": \"Feature\", \"geometry\": {\"type\": \"Point\", \"coordinates\": [-118.52254132688999, 34.18730227951422]}, \"properties\": {\"name\": \"West Valley\", \"year\": 2013}}, {\"type\": \"Feature\", \"geometry\": {\"type\": \"Point\", \"coordinates\": [-118.2436207451411, 34.10753459081063]}, \"properties\": {\"name\": \"Northeast\", \"year\": 2013}}, {\"type\": \"Feature\", \"geometry\": {\"type\": \"Point\", \"coordinates\": [-118.29696376480926, 33.979073260791495]}, \"properties\": {\"name\": \"77th Street\", \"year\": 2013}}, {\"type\": \"Feature\", \"geometry\": {\"type\": \"Point\", \"coordinates\": [-118.26131148875831, 34.00723219039904]}, \"properties\": {\"name\": \"Newton\", \"year\": 2013}}, {\"type\": \"Feature\", \"geometry\": {\"type\": \"Point\", \"coordinates\": [-118.4265589125909, 33.985825285261896]}, \"properties\": {\"name\": \"Pacific\", \"year\": 2013}}, {\"type\": \"Feature\", \"geometry\": {\"type\": \"Point\", \"coordinates\": [-118.38422533402073, 34.171179766142295]}, \"properties\": {\"name\": \"N Hollywood\", \"year\": 2013}}, {\"type\": \"Feature\", \"geometry\": {\"type\": \"Point\", \"coordinates\": [-118.39348880421969, 34.247778645049905]}, \"properties\": {\"name\": \"Foothill\", \"year\": 2013}}, {\"type\": \"Feature\", \"geometry\": {\"type\": \"Point\", \"coordinates\": [-118.53822445016735, 34.24989510260722]}, \"properties\": {\"name\": \"Devonshire\", \"year\": 2013}}, {\"type\": \"Feature\", \"geometry\": {\"type\": \"Point\", \"coordinates\": [-118.26679118026502, 33.941297997876624]}, \"properties\": {\"name\": \"Southeast\", \"year\": 2013}}, {\"type\": \"Feature\", \"geometry\": {\"type\": \"Point\", \"coordinates\": [-118.45146294876143, 34.24192037466408]}, \"properties\": {\"name\": \"Mission\", \"year\": 2013}}, {\"type\": \"Feature\", \"geometry\": {\"type\": \"Point\", \"coordinates\": [-118.29970304237443, 34.06098276594133]}, \"properties\": {\"name\": \"Olympic\", \"year\": 2013}}, {\"type\": \"Feature\", \"geometry\": {\"type\": \"Point\", \"coordinates\": [-118.60087345201799, 34.19201556180298]}, \"properties\": {\"name\": \"Topanga\", \"year\": 2013}}], [{\"type\": \"Feature\", \"geometry\": {\"type\": \"Point\", \"coordinates\": [-118.25010215368981, 34.04617978728878]}, \"properties\": {\"name\": \"Central\", \"year\": 2014}}, {\"type\": \"Feature\", \"geometry\": {\"type\": \"Point\", \"coordinates\": [-118.27355831435737, 34.06218117209529]}, \"properties\": {\"name\": \"Rampart\", \"year\": 2014}}, {\"type\": \"Feature\", \"geometry\": {\"type\": \"Point\", \"coordinates\": [-118.31932659502411, 34.01778488144823]}, \"properties\": {\"name\": \"Southwest\", \"year\": 2014}}, {\"type\": \"Feature\", \"geometry\": {\"type\": \"Point\", \"coordinates\": [-118.20502388576908, 34.051669467191275]}, \"properties\": {\"name\": \"Hollenbeck\", \"year\": 2014}}, {\"type\": \"Feature\", \"geometry\": {\"type\": \"Point\", \"coordinates\": [-118.28284842997418, 33.7723846941207]}, \"properties\": {\"name\": \"Harbor\", \"year\": 2014}}, {\"type\": \"Feature\", \"geometry\": {\"type\": \"Point\", \"coordinates\": [-118.3295138443826, 34.09946908558779]}, \"properties\": {\"name\": \"Hollywood\", \"year\": 2014}}, {\"type\": \"Feature\", \"geometry\": {\"type\": \"Point\", \"coordinates\": [-118.35193078279912, 34.062234789750654]}, \"properties\": {\"name\": \"Wilshire\", \"year\": 2014}}, {\"type\": \"Feature\", \"geometry\": {\"type\": \"Point\", \"coordinates\": [-118.4388078618622, 34.050461428219705]}, \"properties\": {\"name\": \"West LA\", \"year\": 2014}}, {\"type\": \"Feature\", \"geometry\": {\"type\": \"Point\", \"coordinates\": [-118.44713592026395, 34.18060608315465]}, \"properties\": {\"name\": \"Van Nuys\", \"year\": 2014}}, {\"type\": \"Feature\", \"geometry\": {\"type\": \"Point\", \"coordinates\": [-118.5236170123377, 34.18938406450871]}, \"properties\": {\"name\": \"West Valley\", \"year\": 2014}}, {\"type\": \"Feature\", \"geometry\": {\"type\": \"Point\", \"coordinates\": [-118.24558838816, 34.10710739876514]}, \"properties\": {\"name\": \"Northeast\", \"year\": 2014}}, {\"type\": \"Feature\", \"geometry\": {\"type\": \"Point\", \"coordinates\": [-118.29709987896136, 33.979173963078004]}, \"properties\": {\"name\": \"77th Street\", \"year\": 2014}}, {\"type\": \"Feature\", \"geometry\": {\"type\": \"Point\", \"coordinates\": [-118.26173285566507, 34.006893669694136]}, \"properties\": {\"name\": \"Newton\", \"year\": 2014}}, {\"type\": \"Feature\", \"geometry\": {\"type\": \"Point\", \"coordinates\": [-118.42715246608846, 33.98620875786481]}, \"properties\": {\"name\": \"Pacific\", \"year\": 2014}}, {\"type\": \"Feature\", \"geometry\": {\"type\": \"Point\", \"coordinates\": [-118.38422222883912, 34.172801185431375]}, \"properties\": {\"name\": \"N Hollywood\", \"year\": 2014}}, {\"type\": \"Feature\", \"geometry\": {\"type\": \"Point\", \"coordinates\": [-118.39232053624059, 34.24501402350627]}, \"properties\": {\"name\": \"Foothill\", \"year\": 2014}}, {\"type\": \"Feature\", \"geometry\": {\"type\": \"Point\", \"coordinates\": [-118.536155844999, 34.249263638801736]}, \"properties\": {\"name\": \"Devonshire\", \"year\": 2014}}, {\"type\": \"Feature\", \"geometry\": {\"type\": \"Point\", \"coordinates\": [-118.26737840829406, 33.94109292357372]}, \"properties\": {\"name\": \"Southeast\", \"year\": 2014}}, {\"type\": \"Feature\", \"geometry\": {\"type\": \"Point\", \"coordinates\": [-118.45119535172013, 34.24121930834805]}, \"properties\": {\"name\": \"Mission\", \"year\": 2014}}, {\"type\": \"Feature\", \"geometry\": {\"type\": \"Point\", \"coordinates\": [-118.29938463156354, 34.06018681006474]}, \"properties\": {\"name\": \"Olympic\", \"year\": 2014}}, {\"type\": \"Feature\", \"geometry\": {\"type\": \"Point\", \"coordinates\": [-118.60052828125121, 34.19260392871668]}, \"properties\": {\"name\": \"Topanga\", \"year\": 2014}}]]}\n"
     ]
    }
   ],
   "source": [
    "print(geojson.dumps(geoJson))"
   ]
  },
  {
   "cell_type": "code",
   "execution_count": null,
   "metadata": {},
   "outputs": [],
   "source": []
  }
 ],
 "metadata": {
  "kernelspec": {
   "display_name": "Python 3",
   "language": "python",
   "name": "python3"
  },
  "language_info": {
   "codemirror_mode": {
    "name": "ipython",
    "version": 3
   },
   "file_extension": ".py",
   "mimetype": "text/x-python",
   "name": "python",
   "nbconvert_exporter": "python",
   "pygments_lexer": "ipython3",
   "version": "3.8.5"
  }
 },
 "nbformat": 4,
 "nbformat_minor": 5
}
