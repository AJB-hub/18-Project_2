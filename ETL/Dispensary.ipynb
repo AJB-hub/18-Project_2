{
 "cells": [
  {
   "cell_type": "code",
   "execution_count": 1,
   "metadata": {},
   "outputs": [],
   "source": [
    "import pandas as pd\n",
    "import numpy as np\n",
    "import geojson as gj"
   ]
  },
  {
   "cell_type": "code",
   "execution_count": 2,
   "metadata": {},
   "outputs": [],
   "source": [
    "file_to_load = \"../json_files/LA_Certificated_Dispensary_Locations.csv\"\n",
    "disp_df = pd.read_csv(file_to_load)"
   ]
  },
  {
   "cell_type": "code",
   "execution_count": 3,
   "metadata": {},
   "outputs": [],
   "source": [
    "# dispURL = 'https://data.lacity.org/resource/bunu-zsyc.geojson'\n",
    "# dispDF = pd.read_json(dispURL)\n",
    "\n",
    "# dispDF.head()"
   ]
  },
  {
   "cell_type": "code",
   "execution_count": 4,
   "metadata": {},
   "outputs": [],
   "source": [
    "disp_df.reset_index(drop = True, inplace = True)"
   ]
  },
  {
   "cell_type": "code",
   "execution_count": 5,
   "metadata": {},
   "outputs": [],
   "source": [
    "disp_df[[\"lat\",\"long\"]] = disp_df.LOCATION.str.split(\",\",expand=True)"
   ]
  },
  {
   "cell_type": "code",
   "execution_count": 6,
   "metadata": {},
   "outputs": [],
   "source": [
    "# disp_df.head()"
   ]
  },
  {
   "cell_type": "code",
   "execution_count": 7,
   "metadata": {},
   "outputs": [],
   "source": [
    "# ********************DONT RUN MORE THAN ONCE OR YOU WILL NEED TO RESTART KERNAL\n",
    "disp_df[\"lat\"] = disp_df.lat.str.slice(start=1)\n",
    "disp_df[\"lat\"] = pd.to_numeric(disp_df[\"lat\"])"
   ]
  },
  {
   "cell_type": "code",
   "execution_count": 8,
   "metadata": {},
   "outputs": [],
   "source": [
    "# ********************DONT RUN MORE THAN ONCE OR YOU WILL NEED TO RESTART KERNAL\n",
    "disp_df[\"long\"] = disp_df.long.str.slice(stop=-1)\n",
    "disp_df[\"long\"] = pd.to_numeric(disp_df[\"long\"])"
   ]
  },
  {
   "cell_type": "code",
   "execution_count": 18,
   "metadata": {},
   "outputs": [],
   "source": [
    "# Create a year column so we can filter this in the dashboarc\n",
    "disp_df[\"START YEAR\"] = pd.DatetimeIndex(disp_df[\"LOCATION START DATE\"]).year"
   ]
  },
  {
   "cell_type": "code",
   "execution_count": 19,
   "metadata": {},
   "outputs": [
    {
     "data": {
      "text/html": [
       "<div>\n",
       "<style scoped>\n",
       "    .dataframe tbody tr th:only-of-type {\n",
       "        vertical-align: middle;\n",
       "    }\n",
       "\n",
       "    .dataframe tbody tr th {\n",
       "        vertical-align: top;\n",
       "    }\n",
       "\n",
       "    .dataframe thead th {\n",
       "        text-align: right;\n",
       "    }\n",
       "</style>\n",
       "<table border=\"1\" class=\"dataframe\">\n",
       "  <thead>\n",
       "    <tr style=\"text-align: right;\">\n",
       "      <th></th>\n",
       "      <th>LOCATION ACCOUNT #</th>\n",
       "      <th>BUSINESS NAME</th>\n",
       "      <th>DBA NAME</th>\n",
       "      <th>CONFIRMED</th>\n",
       "      <th>STREET ADDRESS</th>\n",
       "      <th>CITY</th>\n",
       "      <th>ZIP CODE</th>\n",
       "      <th>LOCATION DESCRIPTION</th>\n",
       "      <th>MAILING ADDRESS</th>\n",
       "      <th>MAILING CITY</th>\n",
       "      <th>MAILING ZIP CODE</th>\n",
       "      <th>COUNCIL DISTRICT</th>\n",
       "      <th>LOCATION START DATE</th>\n",
       "      <th>LOCATION</th>\n",
       "      <th>lat</th>\n",
       "      <th>long</th>\n",
       "      <th>START YEAR</th>\n",
       "    </tr>\n",
       "  </thead>\n",
       "  <tbody>\n",
       "    <tr>\n",
       "      <th>0</th>\n",
       "      <td>0003073895-0001-0</td>\n",
       "      <td>PARADISE FACTORY LLC</td>\n",
       "      <td>NaN</td>\n",
       "      <td>NaN</td>\n",
       "      <td>385 W 20TH STREET</td>\n",
       "      <td>SAN PEDRO</td>\n",
       "      <td>90731-5503</td>\n",
       "      <td>385 20TH 90731-5503</td>\n",
       "      <td>NaN</td>\n",
       "      <td>NaN</td>\n",
       "      <td>NaN</td>\n",
       "      <td>15</td>\n",
       "      <td>1/1/2018</td>\n",
       "      <td>(33.7258, -118.2855)</td>\n",
       "      <td>33.7258</td>\n",
       "      <td>-118.2855</td>\n",
       "      <td>2018</td>\n",
       "    </tr>\n",
       "    <tr>\n",
       "      <th>1</th>\n",
       "      <td>0003067561-0001-9</td>\n",
       "      <td>WALIBE SOLUTIONS INC</td>\n",
       "      <td>NaN</td>\n",
       "      <td>NaN</td>\n",
       "      <td>400 N MARINE AVENUE</td>\n",
       "      <td>WILMINGTON</td>\n",
       "      <td>90744-5629</td>\n",
       "      <td>400 MARINE 90744-5629</td>\n",
       "      <td>NaN</td>\n",
       "      <td>NaN</td>\n",
       "      <td>NaN</td>\n",
       "      <td>15</td>\n",
       "      <td>1/1/2018</td>\n",
       "      <td>(33.7744, -118.2629)</td>\n",
       "      <td>33.7744</td>\n",
       "      <td>-118.2629</td>\n",
       "      <td>2018</td>\n",
       "    </tr>\n",
       "    <tr>\n",
       "      <th>2</th>\n",
       "      <td>0002201665-0001-0</td>\n",
       "      <td>DELTA-9 T.H.C.</td>\n",
       "      <td>DELTA-9 T.H.C</td>\n",
       "      <td>NaN</td>\n",
       "      <td>824 E ANAHEIM STREET UNIT #B</td>\n",
       "      <td>WILMINGTON</td>\n",
       "      <td>90744-6833</td>\n",
       "      <td>824 ANAHEIM 90744-6833</td>\n",
       "      <td>824 E ANAHEIM STREET   UNIT #B</td>\n",
       "      <td>WILMINGTON</td>\n",
       "      <td>90744-6833</td>\n",
       "      <td>15</td>\n",
       "      <td>12/1/2006</td>\n",
       "      <td>(33.7805, -118.2523)</td>\n",
       "      <td>33.7805</td>\n",
       "      <td>-118.2523</td>\n",
       "      <td>2006</td>\n",
       "    </tr>\n",
       "    <tr>\n",
       "      <th>3</th>\n",
       "      <td>0002275038-0001-7</td>\n",
       "      <td>KUSH KORNER II</td>\n",
       "      <td>K.K.II</td>\n",
       "      <td>NaN</td>\n",
       "      <td>813   CRISTOBAL AVENUE</td>\n",
       "      <td>WILMINGTON</td>\n",
       "      <td>90744-4708</td>\n",
       "      <td>813 CRISTOBAL 90744-4708</td>\n",
       "      <td>10058   SUNLAND BLVD</td>\n",
       "      <td>SUNLAND</td>\n",
       "      <td>91040-1649</td>\n",
       "      <td>15</td>\n",
       "      <td>9/13/2007</td>\n",
       "      <td>(33.7816, -118.243)</td>\n",
       "      <td>33.7816</td>\n",
       "      <td>-118.2430</td>\n",
       "      <td>2007</td>\n",
       "    </tr>\n",
       "    <tr>\n",
       "      <th>4</th>\n",
       "      <td>0002247121-0001-5</td>\n",
       "      <td>HERBAL SOLUTIONS SOUTHERN CALIFORNIA INC</td>\n",
       "      <td>EVOLV CANNABIS | LA BREA COMPASSIONATE CAREGIVERS</td>\n",
       "      <td>NaN</td>\n",
       "      <td>25937   WESTERN AVENUE</td>\n",
       "      <td>LOMITA</td>\n",
       "      <td>90717-3361</td>\n",
       "      <td>25937 WESTERN 90717-3361</td>\n",
       "      <td>25937   WESTERN AVENUE</td>\n",
       "      <td>LOMITA</td>\n",
       "      <td>90717-3361</td>\n",
       "      <td>15</td>\n",
       "      <td>5/15/2007</td>\n",
       "      <td>(33.7871, -118.3081)</td>\n",
       "      <td>33.7871</td>\n",
       "      <td>-118.3081</td>\n",
       "      <td>2007</td>\n",
       "    </tr>\n",
       "  </tbody>\n",
       "</table>\n",
       "</div>"
      ],
      "text/plain": [
       "  LOCATION ACCOUNT #                             BUSINESS NAME  \\\n",
       "0  0003073895-0001-0                      PARADISE FACTORY LLC   \n",
       "1  0003067561-0001-9                      WALIBE SOLUTIONS INC   \n",
       "2  0002201665-0001-0                            DELTA-9 T.H.C.   \n",
       "3  0002275038-0001-7                            KUSH KORNER II   \n",
       "4  0002247121-0001-5  HERBAL SOLUTIONS SOUTHERN CALIFORNIA INC   \n",
       "\n",
       "                                            DBA NAME CONFIRMED  \\\n",
       "0                                                NaN       NaN   \n",
       "1                                                NaN       NaN   \n",
       "2                                      DELTA-9 T.H.C       NaN   \n",
       "3                                             K.K.II       NaN   \n",
       "4  EVOLV CANNABIS | LA BREA COMPASSIONATE CAREGIVERS       NaN   \n",
       "\n",
       "                 STREET ADDRESS        CITY    ZIP CODE  \\\n",
       "0             385 W 20TH STREET   SAN PEDRO  90731-5503   \n",
       "1           400 N MARINE AVENUE  WILMINGTON  90744-5629   \n",
       "2  824 E ANAHEIM STREET UNIT #B  WILMINGTON  90744-6833   \n",
       "3        813   CRISTOBAL AVENUE  WILMINGTON  90744-4708   \n",
       "4        25937   WESTERN AVENUE      LOMITA  90717-3361   \n",
       "\n",
       "       LOCATION DESCRIPTION                 MAILING ADDRESS MAILING CITY  \\\n",
       "0       385 20TH 90731-5503                             NaN          NaN   \n",
       "1     400 MARINE 90744-5629                             NaN          NaN   \n",
       "2    824 ANAHEIM 90744-6833  824 E ANAHEIM STREET   UNIT #B   WILMINGTON   \n",
       "3  813 CRISTOBAL 90744-4708            10058   SUNLAND BLVD      SUNLAND   \n",
       "4  25937 WESTERN 90717-3361          25937   WESTERN AVENUE       LOMITA   \n",
       "\n",
       "  MAILING ZIP CODE  COUNCIL DISTRICT LOCATION START DATE  \\\n",
       "0              NaN                15            1/1/2018   \n",
       "1              NaN                15            1/1/2018   \n",
       "2       90744-6833                15           12/1/2006   \n",
       "3       91040-1649                15           9/13/2007   \n",
       "4       90717-3361                15           5/15/2007   \n",
       "\n",
       "               LOCATION      lat      long  START YEAR  \n",
       "0  (33.7258, -118.2855)  33.7258 -118.2855        2018  \n",
       "1  (33.7744, -118.2629)  33.7744 -118.2629        2018  \n",
       "2  (33.7805, -118.2523)  33.7805 -118.2523        2006  \n",
       "3   (33.7816, -118.243)  33.7816 -118.2430        2007  \n",
       "4  (33.7871, -118.3081)  33.7871 -118.3081        2007  "
      ]
     },
     "execution_count": 19,
     "metadata": {},
     "output_type": "execute_result"
    }
   ],
   "source": [
    "# disp_df.head()"
   ]
  },
  {
   "cell_type": "code",
   "execution_count": 10,
   "metadata": {},
   "outputs": [
    {
     "data": {
      "text/plain": [
       "LOCATION ACCOUNT #       object\n",
       "BUSINESS NAME            object\n",
       "DBA NAME                 object\n",
       "CONFIRMED                object\n",
       "STREET ADDRESS           object\n",
       "CITY                     object\n",
       "ZIP CODE                 object\n",
       "LOCATION DESCRIPTION     object\n",
       "MAILING ADDRESS          object\n",
       "MAILING CITY             object\n",
       "MAILING ZIP CODE         object\n",
       "COUNCIL DISTRICT          int64\n",
       "LOCATION START DATE      object\n",
       "LOCATION                 object\n",
       "lat                     float64\n",
       "long                    float64\n",
       "dtype: object"
      ]
     },
     "execution_count": 10,
     "metadata": {},
     "output_type": "execute_result"
    }
   ],
   "source": [
    "# disp_df.to_json(r'../JSON Files/DISP.JSON', orient = \"index\")\n",
    "disp_df.dtypes"
   ]
  },
  {
   "cell_type": "code",
   "execution_count": 20,
   "metadata": {},
   "outputs": [],
   "source": [
    "def data2geojson(df, filename):\n",
    "    features = []\n",
    "    insert_features = lambda X: features.append(\n",
    "            gj.Feature(geometry=gj.Point((X[\"long\"],\n",
    "                                          X[\"lat\"]\n",
    "#                                           ,X[\"elev\"]\n",
    "                                         )),\n",
    "                            properties=dict(zip_code=X[\"ZIP CODE\"],\n",
    "                                            business_name = X[\"BUSINESS NAME\"],\n",
    "                                            street_address = X[\"STREET ADDRESS\"],\n",
    "                                            location_start_date = X[\"LOCATION START DATE\"],\n",
    "                                            location_start_year = X[\"START YEAR\"])))\n",
    "    df.apply(insert_features, axis=1)\n",
    "    with open(filename, 'w', encoding='utf8') as fp:\n",
    "        gj.dump(gj.FeatureCollection(features), fp, sort_keys=True, ensure_ascii=False)"
   ]
  },
  {
   "cell_type": "code",
   "execution_count": 21,
   "metadata": {},
   "outputs": [],
   "source": [
    "outputFilePath = '../static/data/'\n",
    "dispFileName = f'{outputFilePath}disp.geojson'\n",
    "data2geojson(disp_df, dispFileName)"
   ]
  },
  {
   "cell_type": "code",
   "execution_count": null,
   "metadata": {},
   "outputs": [],
   "source": []
  }
 ],
 "metadata": {
  "kernelspec": {
   "display_name": "Python 3",
   "language": "python",
   "name": "python3"
  },
  "language_info": {
   "codemirror_mode": {
    "name": "ipython",
    "version": 3
   },
   "file_extension": ".py",
   "mimetype": "text/x-python",
   "name": "python",
   "nbconvert_exporter": "python",
   "pygments_lexer": "ipython3",
   "version": "3.8.5"
  }
 },
 "nbformat": 4,
 "nbformat_minor": 5
}
